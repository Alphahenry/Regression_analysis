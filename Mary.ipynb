{
 "cells": [
  {
   "cell_type": "markdown",
   "id": "1d316e5b",
   "metadata": {},
   "source": [
    "To determine relationship between population growth,Urban population and Gdp  am going to use Python as the statistical tool for correlation analysis and regression analysis..\n"
   ]
  },
  {
   "cell_type": "code",
   "execution_count": 16,
   "id": "8b72940c",
   "metadata": {},
   "outputs": [],
   "source": [
    "#importing the necessary libraries for analysis\n",
    "import pandas as pd\n",
    "import numpy as np\n",
    "import statsmodels.api as sm\n",
    "import matplotlib.pyplot as plt\n",
    "import seaborn as sns\n",
    "from scipy.stats import pearsonr"
   ]
  },
  {
   "cell_type": "code",
   "execution_count": 3,
   "id": "50ddc895",
   "metadata": {},
   "outputs": [
    {
     "name": "stdout",
     "output_type": "stream",
     "text": [
      "    Unnamed: 0                       GDP          Per Capita            Growth\n",
      "0         date   GDP ( Billions of US $)   Per Capita (US $)   Annual % Change\n",
      "1   31/12/1961               0.792959472             98.5353           -7.7746\n",
      "2   31/12/1962                 0.8681114            103.7967            9.4574\n",
      "3   31/12/1963               0.926589349            106.5388            8.7783\n",
      "4   31/12/1964               0.998759334             110.392            4.9645\n",
      "..         ...                       ...                 ...               ...\n",
      "57  31/12/2017               82.03580087           1675.9739             3.838\n",
      "58  31/12/2018               92.20295632           1845.7829            5.6479\n",
      "59  31/12/2019               100.3797137           1970.1051            5.1142\n",
      "60  31/12/2020               100.6665427           1936.4246           -0.2502\n",
      "61  31/12/2021               110.3470795           2081.7999            7.5174\n",
      "\n",
      "[62 rows x 4 columns]\n"
     ]
    }
   ],
   "source": [
    "#loading the datasets into python\n",
    "gdp_data = pd.read_csv(\"C:\\\\Users\\\\UCHIHA MADARA\\\\Desktop\\\\mary\\\\gdp.csv\")\n",
    "print(gdp_data)\n",
    "#GDP data\n",
    "\n"
   ]
  },
  {
   "cell_type": "code",
   "execution_count": 4,
   "id": "5bc53c33",
   "metadata": {},
   "outputs": [
    {
     "name": "stdout",
     "output_type": "stream",
     "text": [
      "           date   Population   Annual Growth Rate\n",
      "0    31/12/1961    8047470.0                 3.82\n",
      "1    31/12/1962    8363578.0                 3.93\n",
      "2    31/12/1963    8697200.0                 3.99\n",
      "3    31/12/1964    9047387.0                 4.03\n",
      "4    31/12/1965    9417207.0                 4.09\n",
      "..          ...          ...                  ...\n",
      "135         NaN          NaN                  NaN\n",
      "136         NaN          NaN                  NaN\n",
      "137         NaN          NaN                  NaN\n",
      "138         NaN          NaN                  NaN\n",
      "139         NaN          NaN                  NaN\n",
      "\n",
      "[140 rows x 3 columns]\n"
     ]
    }
   ],
   "source": [
    "pop_data = pd.read_csv(\"C:\\\\Users\\\\UCHIHA MADARA\\\\Desktop\\\\mary\\\\popgrowth.csv\")\n",
    "print(pop_data)\n",
    "#population growth data"
   ]
  },
  {
   "cell_type": "code",
   "execution_count": 5,
   "id": "28e9de62",
   "metadata": {},
   "outputs": [
    {
     "name": "stdout",
     "output_type": "stream",
     "text": [
      "         DATE     GDP   URBAN  POPULATION\n",
      "0  1961-12-31 -7.7746  6.4680        3.82\n",
      "1  1962-12-31  9.4574  6.5782        3.93\n",
      "2  1963-12-31  8.7783  7.2510        3.99\n",
      "3  1964-12-31  4.9645  7.3717        4.03\n",
      "4  1965-12-31  2.0091  7.3984        4.09\n",
      "..        ...     ...     ...         ...\n",
      "56 2017-12-31  3.8380  3.9112        2.20\n",
      "57 2018-12-31  5.6479  3.7793        2.05\n",
      "58 2019-12-31  5.1142  3.7278        2.00\n",
      "59 2020-12-31 -0.2502  3.7682        2.03\n",
      "60 2021-12-31  7.5174  3.7060        1.96\n",
      "\n",
      "[61 rows x 4 columns]\n"
     ]
    }
   ],
   "source": [
    "#Analysis of merged data of population and Gdp focusing on annual % change in Gdp and annual % change in population\n",
    "merged_data = pd.read_excel(\"C:\\\\Users\\\\UCHIHA MADARA\\\\Desktop\\\\mary\\\\merge.xlsx\")\n",
    "print(merged_data)"
   ]
  },
  {
   "cell_type": "code",
   "execution_count": 34,
   "id": "e519a32f",
   "metadata": {},
   "outputs": [
    {
     "data": {
      "text/html": [
       "<div>\n",
       "<style scoped>\n",
       "    .dataframe tbody tr th:only-of-type {\n",
       "        vertical-align: middle;\n",
       "    }\n",
       "\n",
       "    .dataframe tbody tr th {\n",
       "        vertical-align: top;\n",
       "    }\n",
       "\n",
       "    .dataframe thead th {\n",
       "        text-align: right;\n",
       "    }\n",
       "</style>\n",
       "<table border=\"1\" class=\"dataframe\">\n",
       "  <thead>\n",
       "    <tr style=\"text-align: right;\">\n",
       "      <th></th>\n",
       "      <th>GDP</th>\n",
       "      <th>URBAN</th>\n",
       "      <th>POPULATION</th>\n",
       "    </tr>\n",
       "  </thead>\n",
       "  <tbody>\n",
       "    <tr>\n",
       "      <th>count</th>\n",
       "      <td>61.000000</td>\n",
       "      <td>61.000000</td>\n",
       "      <td>61.000000</td>\n",
       "    </tr>\n",
       "    <tr>\n",
       "      <th>mean</th>\n",
       "      <td>4.607866</td>\n",
       "      <td>5.370243</td>\n",
       "      <td>3.203607</td>\n",
       "    </tr>\n",
       "    <tr>\n",
       "      <th>std</th>\n",
       "      <td>4.433143</td>\n",
       "      <td>1.544028</td>\n",
       "      <td>0.601958</td>\n",
       "    </tr>\n",
       "    <tr>\n",
       "      <th>min</th>\n",
       "      <td>-7.774600</td>\n",
       "      <td>3.706000</td>\n",
       "      <td>1.960000</td>\n",
       "    </tr>\n",
       "    <tr>\n",
       "      <th>25%</th>\n",
       "      <td>2.154000</td>\n",
       "      <td>4.283400</td>\n",
       "      <td>2.850000</td>\n",
       "    </tr>\n",
       "    <tr>\n",
       "      <th>50%</th>\n",
       "      <td>4.300600</td>\n",
       "      <td>4.659600</td>\n",
       "      <td>3.260000</td>\n",
       "    </tr>\n",
       "    <tr>\n",
       "      <th>75%</th>\n",
       "      <td>6.203200</td>\n",
       "      <td>7.287400</td>\n",
       "      <td>3.700000</td>\n",
       "    </tr>\n",
       "    <tr>\n",
       "      <th>max</th>\n",
       "      <td>22.173900</td>\n",
       "      <td>8.270600</td>\n",
       "      <td>4.090000</td>\n",
       "    </tr>\n",
       "  </tbody>\n",
       "</table>\n",
       "</div>"
      ],
      "text/plain": [
       "             GDP      URBAN  POPULATION\n",
       "count  61.000000  61.000000   61.000000\n",
       "mean    4.607866   5.370243    3.203607\n",
       "std     4.433143   1.544028    0.601958\n",
       "min    -7.774600   3.706000    1.960000\n",
       "25%     2.154000   4.283400    2.850000\n",
       "50%     4.300600   4.659600    3.260000\n",
       "75%     6.203200   7.287400    3.700000\n",
       "max    22.173900   8.270600    4.090000"
      ]
     },
     "execution_count": 34,
     "metadata": {},
     "output_type": "execute_result"
    }
   ],
   "source": [
    "#descriptive summary of the data\n",
    "merged_data.describe()"
   ]
  },
  {
   "cell_type": "code",
   "execution_count": 19,
   "id": "b52e310f",
   "metadata": {},
   "outputs": [
    {
     "name": "stdout",
     "output_type": "stream",
     "text": [
      "    Unnamed: 0         Population   % of Total            Change\n",
      "0         date   Urban Population   % of Total   Annual % Change\n",
      "1   31/12/1961             608791        7.565             6.468\n",
      "2   31/12/1962             650185        7.774            6.5782\n",
      "3   31/12/1963             699081        8.038             7.251\n",
      "4   31/12/1964             752562        8.318            7.3717\n",
      "..         ...                ...          ...               ...\n",
      "57  31/12/2017           13001604       26.562            3.9112\n",
      "58  31/12/2018           13502378        27.03            3.7793\n",
      "59  31/12/2019           14015215       27.507            3.7278\n",
      "60  31/12/2020           14553419       27.995            3.7682\n",
      "61  31/12/2021           15102890       28.493             3.706\n",
      "\n",
      "[62 rows x 4 columns]\n"
     ]
    }
   ],
   "source": [
    "urban_data= pd.read_csv(\"C:\\\\Users\\\\UCHIHA MADARA\\\\Desktop\\\\mary\\\\urbanpop.csv\")\n",
    "print(urban_data)"
   ]
  },
  {
   "cell_type": "code",
   "execution_count": 7,
   "id": "818aeae0",
   "metadata": {},
   "outputs": [
    {
     "data": {
      "image/png": "[encoded data removed]",
      "text/plain": [
       "<Figure size 640x480 with 1 Axes>"
      ]
     },
     "metadata": {},
     "output_type": "display_data"
    }
   ],
   "source": [
    "#scatter plot of relationship between gdp and population\n",
    "y = merged_data['GDP']\n",
    "x = merged_data[['POPULATION', 'URBAN']]\n",
    "plt.ylabel(\"%annual change in  GDP\")\n",
    "plt.xlabel(\"% annual change in population growth, urban population\")\n",
    "plt.scatter(merged_data['GDP'], merged_data['POPULATION'])\n",
    "plt.scatter(merged_data['GDP'], merged_data['URBAN'])\n",
    "plt.show()"
   ]
  },
  {
   "cell_type": "code",
   "execution_count": 33,
   "id": "0b8a7d11",
   "metadata": {},
   "outputs": [
    {
     "data": {
      "text/plain": [
       "<AxesSubplot:xlabel='POPULATION', ylabel='GDP'>"
      ]
     },
     "execution_count": 33,
     "metadata": {},
     "output_type": "execute_result"
    },
    {
     "data": {
      "image/png": "[encoded data removed]",
      "text/plain": [
       "<Figure size 640x480 with 1 Axes>"
      ]
     },
     "metadata": {},
     "output_type": "display_data"
    }
   ],
   "source": [
    "#plotting a regression plot\n",
    "sns.regplot(merged_data[\"URBAN\"], merged_data[\"GDP\"])\n",
    "sns.regplot(merged_data[\"POPULATION\"], merged_data[\"GDP\"])\n",
    "                        "
   ]
  },
  {
   "cell_type": "code",
   "execution_count": 9,
   "id": "df3a1db8",
   "metadata": {},
   "outputs": [
    {
     "name": "stdout",
     "output_type": "stream",
     "text": [
      "                            OLS Regression Results                            \n",
      "==============================================================================\n",
      "Dep. Variable:                    GDP   R-squared:                       0.092\n",
      "Model:                            OLS   Adj. R-squared:                  0.060\n",
      "Method:                 Least Squares   F-statistic:                     2.923\n",
      "Date:                Tue, 25 Apr 2023   Prob (F-statistic):             0.0617\n",
      "Time:                        08:54:08   Log-Likelihood:                -173.96\n",
      "No. Observations:                  61   AIC:                             353.9\n",
      "Df Residuals:                      58   BIC:                             360.2\n",
      "Df Model:                           2                                         \n",
      "Covariance Type:            nonrobust                                         \n",
      "==============================================================================\n",
      "                 coef    std err          t      P>|t|      [0.025      0.975]\n",
      "------------------------------------------------------------------------------\n",
      "const          1.1403      3.004      0.380      0.706      -4.872       7.152\n",
      "POPULATION    -0.5990      1.217     -0.492      0.624      -3.035       1.837\n",
      "URBAN          1.0031      0.474      2.114      0.039       0.053       1.953\n",
      "==============================================================================\n",
      "Omnibus:                       10.722   Durbin-Watson:                   1.914\n",
      "Prob(Omnibus):                  0.005   Jarque-Bera (JB):               29.401\n",
      "Skew:                           0.151   Prob(JB):                     4.13e-07\n",
      "Kurtosis:                       6.388   Cond. No.                         37.2\n",
      "==============================================================================\n",
      "\n",
      "Notes:\n",
      "[1] Standard Errors assume that the covariance matrix of the errors is correctly specified.\n"
     ]
    }
   ],
   "source": [
    "# regression analysis of the  data model\n",
    "X =  merged_data[['POPULATION', 'URBAN']]\n",
    "X = sm.add_constant(X)\n",
    "model = sm.OLS(y,X).fit()\n",
    "print(model.summary())"
   ]
  },
  {
   "cell_type": "code",
   "execution_count": 10,
   "id": "0f7e8357",
   "metadata": {},
   "outputs": [
    {
     "data": {
      "text/html": [
       "<div>\n",
       "<style scoped>\n",
       "    .dataframe tbody tr th:only-of-type {\n",
       "        vertical-align: middle;\n",
       "    }\n",
       "\n",
       "    .dataframe tbody tr th {\n",
       "        vertical-align: top;\n",
       "    }\n",
       "\n",
       "    .dataframe thead th {\n",
       "        text-align: right;\n",
       "    }\n",
       "</style>\n",
       "<table border=\"1\" class=\"dataframe\">\n",
       "  <thead>\n",
       "    <tr style=\"text-align: right;\">\n",
       "      <th></th>\n",
       "      <th>GDP</th>\n",
       "      <th>URBAN</th>\n",
       "      <th>POPULATION</th>\n",
       "    </tr>\n",
       "  </thead>\n",
       "  <tbody>\n",
       "    <tr>\n",
       "      <th>GDP</th>\n",
       "      <td>1.000000</td>\n",
       "      <td>0.296254</td>\n",
       "      <td>0.146746</td>\n",
       "    </tr>\n",
       "    <tr>\n",
       "      <th>URBAN</th>\n",
       "      <td>0.296254</td>\n",
       "      <td>1.000000</td>\n",
       "      <td>0.652876</td>\n",
       "    </tr>\n",
       "    <tr>\n",
       "      <th>POPULATION</th>\n",
       "      <td>0.146746</td>\n",
       "      <td>0.652876</td>\n",
       "      <td>1.000000</td>\n",
       "    </tr>\n",
       "  </tbody>\n",
       "</table>\n",
       "</div>"
      ],
      "text/plain": [
       "                 GDP     URBAN  POPULATION\n",
       "GDP         1.000000  0.296254    0.146746\n",
       "URBAN       0.296254  1.000000    0.652876\n",
       "POPULATION  0.146746  0.652876    1.000000"
      ]
     },
     "execution_count": 10,
     "metadata": {},
     "output_type": "execute_result"
    }
   ],
   "source": [
    "#lets look at correlation matrix in the merged data\n",
    "merged_data.corr()\n"
   ]
  },
  {
   "cell_type": "code",
   "execution_count": 25,
   "id": "30e3b2ea",
   "metadata": {},
   "outputs": [
    {
     "name": "stdout",
     "output_type": "stream",
     "text": [
      "0.29625367939557173 0.020435542640314244\n"
     ]
    }
   ],
   "source": [
    "#finding the the correlation coefficient between the variables(urban,population and gdp)\n",
    "corr1, p_value1 = pearsonr(merged_data['URBAN'],merged_data[\"GDP\"])\n",
    "print(corr1,p_value1)\n"
   ]
  },
  {
   "cell_type": "code",
   "execution_count": 26,
   "id": "de8f52d0",
   "metadata": {},
   "outputs": [
    {
     "name": "stdout",
     "output_type": "stream",
     "text": [
      "0.6528755186571957 1.1833750138486902e-08\n"
     ]
    }
   ],
   "source": [
    "#correlation coefficint between urban and population\n",
    "corr2,p_value2 = pearsonr(merged_data[\"URBAN\"], merged_data[\"POPULATION\"])\n",
    "print(corr2,p_value2)"
   ]
  },
  {
   "cell_type": "code",
   "execution_count": 27,
   "id": "1f36d6dd",
   "metadata": {},
   "outputs": [
    {
     "name": "stdout",
     "output_type": "stream",
     "text": [
      "0.1467464816983657 0.25909269472647894\n"
     ]
    }
   ],
   "source": [
    "#correlation coefficient  between population and gdp\n",
    "corr3,p_value3 = pearsonr(merged_data[\"POPULATION\"], merged_data[\"GDP\"])\n",
    "print(corr3,p_value3)"
   ]
  },
  {
   "cell_type": "code",
   "execution_count": null,
   "id": "a8949c0c",
   "metadata": {},
   "outputs": [],
   "source": []
  }
 ],
 "metadata": {
  "kernelspec": {
   "display_name": "Python 3 (ipykernel)",
   "language": "python",
   "name": "python3"
  },
  "language_info": {
   "codemirror_mode": {
    "name": "ipython",
    "version": 3
   },
   "file_extension": ".py",
   "mimetype": "text/x-python",
   "name": "python",
   "nbconvert_exporter": "python",
   "pygments_lexer": "ipython3",
   "version": "3.9.13"
  }
 },
 "nbformat": 4,
 "nbformat_minor": 5
}
